{
 "cells": [
  {
   "cell_type": "markdown",
   "id": "42436f92-6fa0-4d7d-9b3f-896f6f16b440",
   "metadata": {
    "jp-MarkdownHeadingCollapsed": true
   },
   "source": [
    "# Scify\n",
    "Here, I use LLM as a chatbot (named as 'Scify').\n",
    "\n",
    "The LLM model I ued is Meta's `llama2 7B` model (Ollma ID `78e26419b446`)."
   ]
  },
  {
   "cell_type": "markdown",
   "id": "d7182dcc-1c52-44de-9d34-69b1ec7dc797",
   "metadata": {},
   "source": [
    "# Settings"
   ]
  },
  {
   "cell_type": "markdown",
   "id": "fe946c2d-86fb-4368-a261-01729a849bc5",
   "metadata": {},
   "source": [
    "### Packages"
   ]
  },
  {
   "cell_type": "code",
   "execution_count": 1,
   "id": "dab4ebc5-60a5-4720-856b-535e1281ca6a",
   "metadata": {},
   "outputs": [],
   "source": [
    "# Langchain related \n",
    "from langchain import PromptTemplate, LLMChain\n",
    "from langchain.document_loaders import GutenbergLoader\n",
    "\n",
    "from langchain.llms import Ollama\n",
    "from langchain.callbacks.manager import CallbackManager\n",
    "from langchain.callbacks.streaming_stdout import StreamingStdOutCallbackHandler\n",
    "\n",
    "import os\n"
   ]
  },
  {
   "cell_type": "markdown",
   "id": "da87e639-dad9-4d37-8799-dfe41e4d936c",
   "metadata": {},
   "source": [
    "### Variables that require changes"
   ]
  },
  {
   "cell_type": "code",
   "execution_count": 3,
   "id": "cce0f813-61db-46fc-aa45-be6283e745c7",
   "metadata": {},
   "outputs": [],
   "source": [
    "\n",
    "#----------------#\n",
    "# model related\n",
    "#----------------#\n",
    "# llm model used for reading the book\n",
    "llm_model_id =\"llama2\"\n",
    "\n",
    "#----------------#\n",
    "# your project root path \n",
    "#----------------#\n",
    "main_Dir = \"../book-reader\"\n"
   ]
  },
  {
   "cell_type": "markdown",
   "id": "a3c5154b-7d49-4556-9456-96acf3bf39ab",
   "metadata": {},
   "source": [
    "### Directories"
   ]
  },
  {
   "cell_type": "code",
   "execution_count": 4,
   "id": "fb2aa707-2ea0-4fac-aba6-6fa839309e45",
   "metadata": {},
   "outputs": [],
   "source": [
    "#----------------#\n",
    "# data dir\n",
    "#----------------#\n",
    "data_Dir = os.path.join(main_Dir,\"data\")\n",
    "\n",
    "\n",
    "#----------------#\n",
    "# make dirs\n",
    "#----------------#\n",
    "for f in [data_Dir]:\n",
    "    os.makedirs(f, exist_ok=True)\n"
   ]
  },
  {
   "cell_type": "markdown",
   "id": "eb21193a-111a-4f5c-a2a1-e82ece5ba76c",
   "metadata": {},
   "source": [
    "# Build an LLM Chatbot"
   ]
  },
  {
   "cell_type": "markdown",
   "id": "bae86cd9-130f-4302-ac66-319e6e6f2249",
   "metadata": {},
   "source": [
    "### Invite an LLM\n"
   ]
  },
  {
   "cell_type": "code",
   "execution_count": 5,
   "id": "daa307b8-9445-4d18-b4b4-8a090ff227a3",
   "metadata": {},
   "outputs": [],
   "source": [
    "# using Ollama \n",
    "hf_llm = Ollama(model=llm_model_id, \n",
    "                callback_manager=CallbackManager([StreamingStdOutCallbackHandler()]))"
   ]
  },
  {
   "cell_type": "markdown",
   "id": "b09b8dfc-4b5a-4755-9f6e-d10778c84f06",
   "metadata": {},
   "source": [
    "### Template"
   ]
  },
  {
   "cell_type": "code",
   "execution_count": 6,
   "id": "02d4adb6-316f-4bbd-a927-ba95889aaee7",
   "metadata": {},
   "outputs": [],
   "source": [
    "# template\n",
    "template = \"\"\"\n",
    "You are a friendly chatbot assistant that responds in a conversational\n",
    "manner to users questions. Keep the answers short, unless specifically\n",
    "asked by the user to elaborate on something.\n",
    "\n",
    "Question: {question}\n",
    "\n",
    "Answer:\"\"\"\n",
    "prompt = PromptTemplate(template=template, input_variables=[\"question\"])\n",
    "\n",
    "llm_chain = LLMChain(prompt=prompt, llm=hf_llm)"
   ]
  },
  {
   "cell_type": "markdown",
   "id": "1fb9f8f2-b1fa-439c-9f56-97ce218a4bff",
   "metadata": {},
   "source": [
    "# Start Chatting"
   ]
  },
  {
   "cell_type": "markdown",
   "id": "ebc7a146-dfe7-4281-afd4-4d6a7a07ce4b",
   "metadata": {
    "jp-MarkdownHeadingCollapsed": true
   },
   "source": [
    "### Ask Scify recommend books from a website\n",
    "1) recommend Scifi books\n",
    "2) find the txt urls of Scify books:\n",
    "\n",
    "#### Note: \n",
    "1) Book No.5 seems not existing  \"Warlock of the Age\"\n",
    "2) 2-5 links are wrong"
   ]
  },
  {
   "cell_type": "code",
   "execution_count": 10,
   "id": "bc988c4d-00fe-4f8a-815c-9bebad0a8c1a",
   "metadata": {},
   "outputs": [
    {
     "name": "stdout",
     "output_type": "stream",
     "text": [
      "Sure, I'd be happy to help you with that! Here are the top 5 most popular scientific fiction books on Project Gutenberg, along with their corresponding plain text UTF-8 links:\n",
      "\n",
      "1. \"The Time Machine\" by H.G. Wells - <https://www.gutenberg.org/cache/epub/35/pg35.txt>\n",
      "2. \"Frankenstein\" by Mary Shelley - <https://www.gutenberg.org/cache/epub/104/pg104.txt>\n",
      "3. \"The War of the Worlds\" by H.G. Wells - <https://www.gutenberg.org/cache/epub/406/pg406.txt>\n",
      "4. \"20,000 Leagues Under the Sea\" by Jules Verne - <https://www.gutenberg.org/cache/epub/37/pg37.txt>\n",
      "5. \"Warlock of the Age\" by Robert E. Howard - <https://www.gutenberg.org/cache/epub/248/pg248.txt>\n",
      "\n",
      "I hope this helps! Let me know if you have any other questions."
     ]
    }
   ],
   "source": [
    "question = \"\"\"\n",
    "Please go to 'https://www.gutenberg.org/', \n",
    "search for 'Scientific Fiction', \n",
    "list the most popular 5 books and their matched Plain Text UTF-8 links on 'https://www.gutenberg.org/'\n",
    "For example, the most popular book is 'The Time Machine by H. G. Wells'. The matched Plan Text UTF-8 link is 'https://www.gutenberg.org/cache/epub/35/pg35.txt'\n",
    "\"\"\"\n",
    "answer = llm_chain({question})"
   ]
  },
  {
   "cell_type": "markdown",
   "id": "817d06a4-1756-44e3-bbc8-36bf696bacc1",
   "metadata": {},
   "source": [
    "### Ask Scify to recommend books and write short summaries"
   ]
  },
  {
   "cell_type": "code",
   "execution_count": 12,
   "id": "856ab3d3-ad04-4a58-9c29-d4c525a72fb1",
   "metadata": {},
   "outputs": [
    {
     "name": "stdout",
     "output_type": "stream",
     "text": [
      "Ah, another fan of H.G. Wells' classic! Here are five scientific fiction books that share similar themes and ideas with \"The Time Machine\":\n",
      "\n",
      "1. \"The War of the Worlds\" by H.G. Wells - Another classic from the same author, this book follows a Martian invasion of Earth and explores themes of technology, progress, and the dangers of playing with forces we don't fully understand.\n",
      "2. \"Foundation\" by Isaac Asimov - In this seminal work of science fiction, Asimov explores the idea of a vast interstellar empire in decline, and the scientists who must navigate the complexities of time travel to ensure its survival.\n",
      "3. \"Dune\" by Frank Herbert - Set in a distant future where humans have colonized other planets, this book follows a young man named Paul Atreides as he uncovers the secrets of the mysterious desert planet Arrakis and the powerful substance it produces, known as melange.\n",
      "4. \"Altered Carbon\" by Richard K. Morgan - In this gritty and thought-provoking novel, a former soldier is brought back to life decades after his death to solve a murder that took place in a futuristic world where technology has made death irrelevant.\n",
      "5. \"The Three-Body Problem\" by Liu Cixin - This award-winning novel explores the first contact between humans and an alien civilization, and the complexities of communication and understanding between two vastly different cultures.\n",
      "\n",
      "Each of these books offers a unique take on the scientific fiction genre, while also sharing some common themes with \"The Time Machine\". I hope you find something that piques your interest!"
     ]
    }
   ],
   "source": [
    "question = \"\"\"\n",
    "Please recommend 5 'Scientific Fiction' books which are similar to the book 'The Time Machine'\n",
    "Please also write a short summary about the book.\n",
    "\"\"\"\n",
    "answer = llm_chain({question})"
   ]
  }
 ],
 "metadata": {
  "kernelspec": {
   "display_name": "llm",
   "language": "python",
   "name": "llm"
  },
  "language_info": {
   "codemirror_mode": {
    "name": "ipython",
    "version": 3
   },
   "file_extension": ".py",
   "mimetype": "text/x-python",
   "name": "python",
   "nbconvert_exporter": "python",
   "pygments_lexer": "ipython3",
   "version": "3.8.18"
  }
 },
 "nbformat": 4,
 "nbformat_minor": 5
}
